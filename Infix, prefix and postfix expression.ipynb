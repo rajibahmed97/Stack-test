{
 "cells": [
  {
   "cell_type": "code",
   "execution_count": 1,
   "metadata": {},
   "outputs": [],
   "source": [
    "class Stack:\n",
    "    def __init__(self):\n",
    "        self.stack = []\n",
    "    def push(self,data):\n",
    "        return self.stack.append(data)\n",
    "    def pop(self):\n",
    "        return self.stack.pop()\n",
    "    def isEmpty(self):\n",
    "        return self.stack == []\n",
    "    def peek(self):\n",
    "        return self.stack[len(self.stack)-1]\n",
    "    def size(self):\n",
    "        return len(self.stack)\n",
    "\n",
    "    \n",
    "\n"
   ]
  },
  {
   "cell_type": "markdown",
   "metadata": {},
   "source": [
    "# infix to postfix conversions"
   ]
  },
  {
   "cell_type": "code",
   "execution_count": 2,
   "metadata": {},
   "outputs": [
    {
     "name": "stdout",
     "output_type": "stream",
     "text": [
      "A B + C D + *\n",
      "A B + C * D E - F G + * -\n"
     ]
    }
   ],
   "source": [
    "class Stack:\n",
    "    def __init__(self):\n",
    "        self.stack = []\n",
    "    def push(self,data):\n",
    "        return self.stack.append(data)\n",
    "    def pop(self):\n",
    "        return self.stack.pop()\n",
    "    def isEmpty(self):\n",
    "        return self.stack == []\n",
    "    def peek(self):\n",
    "        return self.stack[len(self.stack)-1]\n",
    "    def size(self):\n",
    "        return len(self.stack)\n",
    "\n",
    "\n",
    "def infixToPostfix(infixexpr):\n",
    "    prec = {}\n",
    "    prec[\"*\"] = 3\n",
    "    prec[\"/\"] = 3\n",
    "    prec[\"+\"] = 2\n",
    "    prec[\"-\"] = 2\n",
    "    prec[\"(\"] = 1\n",
    "    \n",
    "    opStack = Stack()\n",
    "    postfixList = []\n",
    "    tokenList = infixexpr.split()\n",
    "    \n",
    "\n",
    "\n",
    "    for token in tokenList:\n",
    "        if token in \"ABCDEFGHIJKLMNOPQRSTUVWXYZ\" or token in \"0123456789\":\n",
    "            postfixList.append(token)\n",
    "        elif token == '(':\n",
    "            opStack.push(token)\n",
    "        elif token == ')':\n",
    "            topToken = opStack.pop()\n",
    "            while topToken != '(':\n",
    "                postfixList.append(topToken)\n",
    "                topToken = opStack.pop()\n",
    "        else:\n",
    "            while (not opStack.isEmpty()) and \\\n",
    "               (prec[opStack.peek()] >= prec[token]):\n",
    "                  postfixList.append(opStack.pop())\n",
    "            opStack.push(token)\n",
    "\n",
    "    while not opStack.isEmpty():\n",
    "        postfixList.append(opStack.pop())\n",
    "    return \" \".join(postfixList)\n",
    "\n",
    "print(infixToPostfix(\"( A + B ) * ( C + D )\"))\n",
    "print(infixToPostfix(\"( A + B ) * C - ( D - E ) * ( F + G )\"))\n"
   ]
  },
  {
   "cell_type": "markdown",
   "metadata": {},
   "source": [
    "# infix to prefix conversions"
   ]
  },
  {
   "cell_type": "code",
   "execution_count": 3,
   "metadata": {},
   "outputs": [
    {
     "name": "stdout",
     "output_type": "stream",
     "text": [
      "+ + + A B C D\n",
      "* - A / B C - / A K L\n"
     ]
    }
   ],
   "source": [
    "class Stack:\n",
    "    def __init__(self):\n",
    "        self.stack = []\n",
    "    def push(self,data):\n",
    "        return self.stack.append(data)\n",
    "    def pop(self):\n",
    "        return self.stack.pop()\n",
    "    def isEmpty(self):\n",
    "        return self.stack == []\n",
    "    def peek(self):\n",
    "        return self.stack[len(self.stack)-1]\n",
    "    def size(self):\n",
    "        return len(self.stack)\n",
    "    \n",
    "    \n",
    "def infix_to_prefix_conversion(input_string):\n",
    "    \n",
    "    reverse_string = input_string[::-1]\n",
    "    s = Stack()\n",
    "    pre = {}\n",
    "    pre[\"*\"] = 3\n",
    "    pre[\"/\"] = 3\n",
    "    pre[\"+\"] = 2\n",
    "    pre[\"-\"] = 2\n",
    "    pre[\")\"] = 1\n",
    "    \n",
    "    token_list = reverse_string.split()\n",
    "    prefix_string = []\n",
    "    \n",
    "    for token in token_list:\n",
    "        if token in 'ABCDEFGHIJKLMNOPQRSTUVWXYZ' or token in '0123456789':\n",
    "            prefix_string.append(token)\n",
    "        elif token == ')':\n",
    "            s.push(token)\n",
    "        elif token == '(':\n",
    "            top = s.pop()\n",
    "            while top != ')':\n",
    "                prefix_string.append(top)\n",
    "                top = s.pop()\n",
    "        else:\n",
    "            while (not s.isEmpty() )and (pre[token] < pre[s.peek()]):\n",
    "                prefix_string.append(s.pop())\n",
    "            s.push(token)\n",
    "                \n",
    "    while not s.isEmpty():\n",
    "        prefix_string.append(s.pop())\n",
    "    return \" \".join(prefix_string)\n",
    "            \n",
    "    \n",
    "    \n",
    "    \n",
    "print((infix_to_prefix_conversion(\"A + B + C + D\"))[::-1])\n",
    "print((infix_to_prefix_conversion(\"( A - B / C ) * ( A / K - L )\"))[::-1])\n"
   ]
  }
 ],
 "metadata": {
  "kernelspec": {
   "display_name": "Python 3",
   "language": "python",
   "name": "python3"
  },
  "language_info": {
   "codemirror_mode": {
    "name": "ipython",
    "version": 3
   },
   "file_extension": ".py",
   "mimetype": "text/x-python",
   "name": "python",
   "nbconvert_exporter": "python",
   "pygments_lexer": "ipython3",
   "version": "3.8.6"
  }
 },
 "nbformat": 4,
 "nbformat_minor": 4
}
