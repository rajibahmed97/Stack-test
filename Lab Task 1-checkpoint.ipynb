{
 "cells": [
  {
   "cell_type": "markdown",
   "metadata": {},
   "source": [
    "# Problem No : 1"
   ]
  },
  {
   "cell_type": "code",
   "execution_count": 1,
   "metadata": {},
   "outputs": [
    {
     "name": "stdout",
     "output_type": "stream",
     "text": [
      "Enter your name : Saidul Islam Rajib\n",
      "Enter your age : 24\n",
      "Saidul Islam Rajib, you will turn 100 years old at 2097\n"
     ]
    }
   ],
   "source": [
    "name = input(\"Enter your name : \")\n",
    "age = int(input(\"Enter your age : \"))\n",
    "print(f'{name}, you will turn 100 years old at {(100 - age) + 2021}')"
   ]
  },
  {
   "cell_type": "markdown",
   "metadata": {},
   "source": [
    "# Problem No : 2"
   ]
  },
  {
   "cell_type": "code",
   "execution_count": 2,
   "metadata": {},
   "outputs": [
    {
     "name": "stdout",
     "output_type": "stream",
     "text": [
      "\n",
      "\n",
      "Do you want to continue ?\n",
      "YES --> 1\n",
      "NO --> press any other key : 1\n",
      "\n",
      "Player A : Rock\n",
      "Player B : Rock\n",
      "Match Draw\n",
      "\n",
      "\n",
      "Do you want to continue ?\n",
      "YES --> 1\n",
      "NO --> press any other key : 1\n",
      "\n",
      "Player A : Papers\n",
      "Player B : Scissors\n",
      "Player B --> won the match & got : Scissors\n",
      "\n",
      "\n",
      "Do you want to continue ?\n",
      "YES --> 1\n",
      "NO --> press any other key : 1\n",
      "\n",
      "Player A : Papers\n",
      "Player B : Scissors\n",
      "Player B --> won the match & got : Scissors\n",
      "\n",
      "\n",
      "Do you want to continue ?\n",
      "YES --> 1\n",
      "NO --> press any other key : 1\n",
      "\n",
      "Player A : Scissors\n",
      "Player B : Papers\n",
      "Player A --> won the match & got : Scissors\n",
      "\n",
      "\n",
      "Do you want to continue ?\n",
      "YES --> 1\n",
      "NO --> press any other key : 1\n",
      "\n",
      "Player A : Rock\n",
      "Player B : Scissors\n",
      "Player A --> won the match & got : Rock\n",
      "\n",
      "\n",
      "Do you want to continue ?\n",
      "YES --> 1\n",
      "NO --> press any other key : 1\n",
      "\n",
      "Player A : Rock\n",
      "Player B : Papers\n",
      "Player B --> won the match & got : Papers\n",
      "\n",
      "\n",
      "Do you want to continue ?\n",
      "YES --> 1\n",
      "NO --> press any other key : 1\n",
      "\n",
      "Player A : Papers\n",
      "Player B : Papers\n",
      "Match Draw\n",
      "\n",
      "\n",
      "Do you want to continue ?\n",
      "YES --> 1\n",
      "NO --> press any other key : 1\n",
      "\n",
      "Player A : Scissors\n",
      "Player B : Scissors\n",
      "Match Draw\n",
      "\n",
      "\n",
      "Do you want to continue ?\n",
      "YES --> 1\n",
      "NO --> press any other key : 1\n",
      "\n",
      "Player A : Rock\n",
      "Player B : Rock\n",
      "Match Draw\n",
      "\n",
      "\n",
      "Do you want to continue ?\n",
      "YES --> 1\n",
      "NO --> press any other key : 1\n",
      "\n",
      "Player A : Rock\n",
      "Player B : Scissors\n",
      "Player A --> won the match & got : Rock\n",
      "\n",
      "\n",
      "Do you want to continue ?\n",
      "YES --> 1\n",
      "NO --> press any other key : 1\n",
      "\n",
      "Player A : Rock\n",
      "Player B : Papers\n",
      "Player B --> won the match & got : Papers\n",
      "\n",
      "\n",
      "Do you want to continue ?\n",
      "YES --> 1\n",
      "NO --> press any other key : 1\n",
      "\n",
      "Player A : Scissors\n",
      "Player B : Rock\n",
      "Player B --> won the match & got : Rock\n",
      "\n",
      "\n",
      "Do you want to continue ?\n",
      "YES --> 1\n",
      "NO --> press any other key : 1\n",
      "\n",
      "Player A : Scissors\n",
      "Player B : Rock\n",
      "Player B --> won the match & got : Rock\n",
      "\n",
      "\n",
      "Do you want to continue ?\n",
      "YES --> 1\n",
      "NO --> press any other key : 1\n",
      "\n",
      "Player A : Rock\n",
      "Player B : Rock\n",
      "Match Draw\n",
      "\n",
      "\n",
      "Do you want to continue ?\n",
      "YES --> 1\n",
      "NO --> press any other key : 1\n",
      "\n",
      "Player A : Papers\n",
      "Player B : Papers\n",
      "Match Draw\n",
      "\n",
      "\n",
      "Do you want to continue ?\n",
      "YES --> 1\n",
      "NO --> press any other key : 1\n",
      "\n",
      "Player A : Scissors\n",
      "Player B : Scissors\n",
      "Match Draw\n",
      "\n",
      "\n",
      "Do you want to continue ?\n",
      "YES --> 1\n",
      "NO --> press any other key : 1\n",
      "\n",
      "Player A : Scissors\n",
      "Player B : Scissors\n",
      "Match Draw\n",
      "\n",
      "\n",
      "Do you want to continue ?\n",
      "YES --> 1\n",
      "NO --> press any other key : 1\n",
      "\n",
      "Player A : Rock\n",
      "Player B : Rock\n",
      "Match Draw\n",
      "\n",
      "\n",
      "Do you want to continue ?\n",
      "YES --> 1\n",
      "NO --> press any other key : 1\n",
      "\n",
      "Player A : Papers\n",
      "Player B : Papers\n",
      "Match Draw\n",
      "\n",
      "\n",
      "Do you want to continue ?\n",
      "YES --> 1\n",
      "NO --> press any other key : 1\n",
      "\n",
      "Player A : Scissors\n",
      "Player B : Rock\n",
      "Player B --> won the match & got : Rock\n",
      "\n",
      "\n",
      "Do you want to continue ?\n",
      "YES --> 1\n",
      "NO --> press any other key : \n",
      "\n"
     ]
    }
   ],
   "source": [
    "import random\n",
    "\n",
    "def take_decision(data):\n",
    "    if data == 0:\n",
    "        return 'Player A'\n",
    "    else:\n",
    "        return 'Player B'\n",
    "    \n",
    "    \n",
    "try_more_times = True\n",
    "while try_more_times:\n",
    "    print('\\n\\nDo you want to continue ?')\n",
    "    user_choice = input('YES --> 1\\nNO --> press any other key : ')\n",
    "    print()\n",
    "\n",
    "    if user_choice == '1':\n",
    "        my_list = []\n",
    "        count = 0\n",
    "\n",
    "        random_testing_data = ','.join(random.choice(('Rock','Scissors','Papers')) for i in range(2))\n",
    "        \n",
    "        for item in random_testing_data.split(','):\n",
    "            my_list.append(item)\n",
    "            print(f'{take_decision(count)} : {my_list[count]}')\n",
    "            count = count + 1\n",
    "        \n",
    "\n",
    "            \n",
    "        if my_list[0] == my_list[1]:\n",
    "            print('Match Draw')\n",
    "\n",
    "        else:\n",
    "            if ('Rock' in my_list) and ('Scissors' in my_list):\n",
    "                if (my_list[0] == 'Rock') and (my_list[1] == 'Scissors'):\n",
    "                    print(f\"{take_decision(0)} --> won the match & got : {my_list[0]}\")\n",
    "                else:\n",
    "                    print(f\"{take_decision(1)} --> won the match & got : {my_list[1]}\")\n",
    "\n",
    "            elif ('Scissors' in my_list) and ('Papers' in my_list):\n",
    "                if (my_list[0] == 'Scissors') and (my_list[1] == 'Papers'):\n",
    "                    print(f\"{take_decision(0)} --> won the match & got : {my_list[0]}\")\n",
    "                else:\n",
    "                    print(f\"{take_decision(1)} --> won the match & got : {my_list[1]}\")\n",
    "\n",
    "            else:\n",
    "                if (my_list[0] == 'Papers') and (my_list[1] == 'Rock'):\n",
    "                    print(f\"{take_decision(0)} --> won the match & got : {my_list[0]}\")\n",
    "                else:\n",
    "                    print(f\"{take_decision(1)} --> won the match & got : {my_list[1]}\")\n",
    "\n",
    "            \n",
    "    else:\n",
    "        try_more_times = False\n",
    "                            \n",
    "                \n",
    "        "
   ]
  },
  {
   "cell_type": "markdown",
   "metadata": {},
   "source": [
    "# Problem No : 3"
   ]
  },
  {
   "cell_type": "code",
   "execution_count": 3,
   "metadata": {},
   "outputs": [
    {
     "name": "stdout",
     "output_type": "stream",
     "text": [
      "Enter a number : 10\n",
      "1\n",
      "1\n",
      "2\n",
      "3\n",
      "5\n",
      "8\n",
      "13\n",
      "21\n",
      "34\n",
      "55\n"
     ]
    }
   ],
   "source": [
    "\n",
    "def fibonacci(num):\n",
    "    first = 0\n",
    "    last = 1\n",
    "    if num == 1:\n",
    "        print(num)\n",
    "    else:\n",
    "        print(last)\n",
    "        for i in range(1,num):\n",
    "            temp = first + last\n",
    "            print(temp)\n",
    "            first = last\n",
    "            last = temp\n",
    "\n",
    "try:\n",
    "    num = int(input(\"Enter a number : \"))\n",
    "    if num > 0:\n",
    "        fibonacci(num)\n",
    "    else:\n",
    "        print('something else will be happened here')\n",
    "\n",
    "except:\n",
    "    print('something else will be happened here')\n",
    "\n"
   ]
  },
  {
   "cell_type": "markdown",
   "metadata": {},
   "source": [
    "# Problem No : 4"
   ]
  },
  {
   "cell_type": "code",
   "execution_count": 4,
   "metadata": {},
   "outputs": [
    {
     "name": "stdout",
     "output_type": "stream",
     "text": [
      "80\n"
     ]
    }
   ],
   "source": [
    "sampleDict = { \n",
    "   \"class\":{ \n",
    "      \"student\":{ \n",
    "         \"name\":\"Mike\",\n",
    "         \"marks\":{ \n",
    "            \"physics\":70,\n",
    "            \"history\":80\n",
    "         }\n",
    "      }\n",
    "   }\n",
    "}\n",
    "print(sampleDict['class']['student']['marks']['history'])\n"
   ]
  },
  {
   "cell_type": "markdown",
   "metadata": {},
   "source": [
    "# Problem No : 5"
   ]
  },
  {
   "cell_type": "code",
   "execution_count": 5,
   "metadata": {},
   "outputs": [
    {
     "name": "stdout",
     "output_type": "stream",
     "text": [
      "30\n"
     ]
    }
   ],
   "source": [
    "num_tuple = (30)\n",
    "print(num_tuple)"
   ]
  },
  {
   "cell_type": "markdown",
   "metadata": {},
   "source": [
    "# Problem No : 6"
   ]
  },
  {
   "cell_type": "code",
   "execution_count": 6,
   "metadata": {},
   "outputs": [
    {
     "name": "stdout",
     "output_type": "stream",
     "text": [
      "Original list are --> [34, 54, 67, 89, 11, 43, 94]\n",
      "List after removing element at index 4 : [34, 54, 67, 89, 43, 94]\n",
      "List after adding element at index 2 : [34, 54, 11, 67, 89, 43, 94]\n",
      "List after adding element to last : [34, 54, 11, 67, 89, 43, 94, 11]\n"
     ]
    }
   ],
   "source": [
    "original_list = [34, 54, 67, 89, 11, 43, 94]\n",
    "print(f'Original list are --> {original_list}')\n",
    "\n",
    "original_list.remove(11)\n",
    "print(f'List after removing element at index 4 : {original_list}')\n",
    "\n",
    "original_list.insert(2,11)\n",
    "print(f'List after adding element at index 2 : {original_list}')\n",
    "\n",
    "original_list.append(11)\n",
    "print(f'List after adding element to last : {original_list}')"
   ]
  },
  {
   "cell_type": "markdown",
   "metadata": {},
   "source": [
    "# Problem No : 7"
   ]
  },
  {
   "cell_type": "code",
   "execution_count": 7,
   "metadata": {},
   "outputs": [
    {
     "name": "stdout",
     "output_type": "stream",
     "text": [
      "[125, 930, 950]\n"
     ]
    }
   ],
   "source": [
    "import random\n",
    "print([(random.randrange(100,1000,5)) for i in range(3)])"
   ]
  },
  {
   "cell_type": "markdown",
   "metadata": {},
   "source": [
    "# Problem No : 8"
   ]
  },
  {
   "cell_type": "code",
   "execution_count": 8,
   "metadata": {},
   "outputs": [
    {
     "name": "stdout",
     "output_type": "stream",
     "text": [
      "Enter your first name, mid name and last name : Saidul Islam Rajib\n",
      "First Name :  Saidul\n",
      "Mid Name :  Islam\n",
      "Last Name :  Rajib\n"
     ]
    }
   ],
   "source": [
    "first_name, mid_name, last_name = input(\"Enter your first name, mid name and last name : \").split()\n",
    "print(\"First Name : \",first_name)\n",
    "print(\"Mid Name : \",mid_name)\n",
    "print(\"Last Name : \",last_name)"
   ]
  },
  {
   "cell_type": "markdown",
   "metadata": {},
   "source": [
    "# Problem No : 9"
   ]
  },
  {
   "cell_type": "code",
   "execution_count": 9,
   "metadata": {},
   "outputs": [
    {
     "name": "stdout",
     "output_type": "stream",
     "text": [
      "Enter a number to find all summation : 10\n",
      "Sum of all numbers : 55.0\n"
     ]
    }
   ],
   "source": [
    "number = int(input(\"Enter a number to find all summation : \"))\n",
    "if number > 0:\n",
    "    print(f'Sum of all numbers : {(number*(number+1))/2}')"
   ]
  },
  {
   "cell_type": "markdown",
   "metadata": {},
   "source": [
    "# Problem No : 10"
   ]
  },
  {
   "cell_type": "code",
   "execution_count": 10,
   "metadata": {},
   "outputs": [
    {
     "name": "stdout",
     "output_type": "stream",
     "text": [
      "5 4 3 2 1 \n",
      "4 3 2 1 \n",
      "3 2 1 \n",
      "2 1 \n",
      "1 \n"
     ]
    }
   ],
   "source": [
    "for row in range(5,0,-1):\n",
    "    for col in range(row,0,-1):\n",
    "        print(col, end=' ')\n",
    "    print()\n",
    "    "
   ]
  },
  {
   "cell_type": "code",
   "execution_count": null,
   "metadata": {},
   "outputs": [],
   "source": []
  }
 ],
 "metadata": {
  "kernelspec": {
   "display_name": "Python 3",
   "language": "python",
   "name": "python3"
  },
  "language_info": {
   "codemirror_mode": {
    "name": "ipython",
    "version": 3
   },
   "file_extension": ".py",
   "mimetype": "text/x-python",
   "name": "python",
   "nbconvert_exporter": "python",
   "pygments_lexer": "ipython3",
   "version": "3.9.1"
  }
 },
 "nbformat": 4,
 "nbformat_minor": 4
}
