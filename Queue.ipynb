{
 "cells": [
  {
   "cell_type": "markdown",
   "metadata": {},
   "source": [
    "# Hot potato game using queue"
   ]
  },
  {
   "cell_type": "code",
   "execution_count": 1,
   "metadata": {},
   "outputs": [
    {
     "name": "stdout",
     "output_type": "stream",
     "text": [
      "3\n"
     ]
    }
   ],
   "source": [
    "class Queue:\n",
    "    def __init__(self):\n",
    "        self.items = []\n",
    "\n",
    "    def isEmpty(self):\n",
    "        return self.items == []\n",
    "\n",
    "    def enqueue(self, item):\n",
    "        self.items.insert(0,item)\n",
    "\n",
    "    def dequeue(self):\n",
    "        return self.items.pop()\n",
    "\n",
    "    def size(self):\n",
    "        return len(self.items)\n",
    "    \n",
    "def games(names,num):\n",
    "    q = Queue()\n",
    "    for name in names:\n",
    "        q.enqueue(name)\n",
    "    \n",
    "    while q.size() > 1 :\n",
    "        for i in range(num):\n",
    "            q.enqueue(q.dequeue())\n",
    "        q.dequeue()\n",
    "    return q.dequeue()\n",
    "    \n",
    "print(games(['1','2','3','4','5','6'],7))\n",
    "    \n",
    "    "
   ]
  },
  {
   "cell_type": "markdown",
   "metadata": {},
   "source": [
    "# printer task for laboratory"
   ]
  },
  {
   "cell_type": "code",
   "execution_count": 2,
   "metadata": {},
   "outputs": [
    {
     "name": "stdout",
     "output_type": "stream",
     "text": [
      "Avg waiting Time 17.85 seconds     0 task remaining\n",
      "Avg waiting Time  6.05 seconds     1 task remaining\n",
      "Avg waiting Time 12.65 seconds     0 task remaining\n",
      "Avg waiting Time 36.18 seconds     0 task remaining\n",
      "Avg waiting Time 23.79 seconds     0 task remaining\n",
      "Avg waiting Time 10.00 seconds     0 task remaining\n",
      "Avg waiting Time 23.08 seconds     0 task remaining\n",
      "Avg waiting Time  3.33 seconds     0 task remaining\n",
      "Avg waiting Time 14.00 seconds     0 task remaining\n",
      "Avg waiting Time 96.37 seconds     0 task remaining\n"
     ]
    }
   ],
   "source": [
    "import random\n",
    "class Queue:\n",
    "    def __init__(self):\n",
    "        self.items = []\n",
    "\n",
    "    def isEmpty(self):\n",
    "        return self.items == []\n",
    "\n",
    "    def enqueue(self, item):\n",
    "        self.items.insert(0,item)\n",
    "\n",
    "    def dequeue(self):\n",
    "        return self.items.pop()\n",
    "\n",
    "    def size(self):\n",
    "        return len(self.items)\n",
    "    \n",
    "class Task:\n",
    "    def __init__(self,time):\n",
    "        self.timeStamp = time\n",
    "        self.page = random.randrange(1,21)\n",
    "    def getStamp(self):\n",
    "        return self.timeStamp\n",
    "    def getPages(self):\n",
    "        return self.page\n",
    "    def waitTime(self,currentTime):\n",
    "        return currentTime - self.timeStamp\n",
    "    \n",
    "    \n",
    "class Printer:\n",
    "    def __init__(self,ppm):\n",
    "        self.pageRate = ppm\n",
    "        self.currentTask = None\n",
    "        self.timeRemaining = 0\n",
    "    def busy(self):\n",
    "        if self.currentTask != None:\n",
    "            return True\n",
    "        else:\n",
    "            return False\n",
    "    def tick(self):\n",
    "        if self.currentTask != None:\n",
    "            self.timeRemaining = self.timeRemaining - 1\n",
    "            if self.timeRemaining <= 0:\n",
    "                self.currentTask = None\n",
    "    def nextStartTask(self,newTask):\n",
    "        self.currentTask = newTask\n",
    "        self.timeRemaining = newTask.getPages() * 60/self.pageRate\n",
    "        \n",
    "        \n",
    "def completeTask():\n",
    "    num = random.randrange(1,181)\n",
    "    if num==180:\n",
    "        return True\n",
    "    else:\n",
    "        return False\n",
    "\n",
    "        \n",
    "def simulation(numSeconds,pagePerMinute):\n",
    "    q = Queue()\n",
    "    labprinter = Printer(pagePerMinute)\n",
    "    waitingTimeList = []\n",
    "    for currentSecond in range(numSeconds):\n",
    "        if completeTask():\n",
    "            task = Task(currentSecond)\n",
    "            q.enqueue(task)\n",
    "        if (not labprinter.busy()) and (not q.isEmpty()):\n",
    "            nextTask = q.dequeue()\n",
    "            waitingTimeList.append(nextTask.waitTime(currentSecond))\n",
    "            labprinter.nextStartTask(nextTask)\n",
    "        labprinter.tick()\n",
    "    avgTime = sum(waitingTimeList)/len(waitingTimeList)\n",
    "    print('Avg waiting Time %5.2f seconds %5d task remaining'%(avgTime,q.size()))\n",
    "\n",
    "        \n",
    "for i in range(10):\n",
    "    simulation(3600,10)\n",
    "        \n",
    " \n",
    "        "
   ]
  },
  {
   "cell_type": "markdown",
   "metadata": {},
   "source": [
    "# Dequeue Palinedrom Test "
   ]
  },
  {
   "cell_type": "code",
   "execution_count": 3,
   "metadata": {},
   "outputs": [
    {
     "name": "stdout",
     "output_type": "stream",
     "text": [
      "not palinedrome\n",
      "palinedrome\n"
     ]
    }
   ],
   "source": [
    "#creating structure for Dequeue\n",
    "class Dequeue:\n",
    "    def __init__(self):\n",
    "        self.items = []\n",
    "    def size(self):\n",
    "        return len(self.items)\n",
    "    def isEmpty(self):\n",
    "        return self.items == []\n",
    "    def addToRear(self,item):\n",
    "        return self.items.insert(0,item)\n",
    "    def addToFront(self,item):\n",
    "        return self.items.insert(item)\n",
    "    def removeFromRear(self):\n",
    "        return self.items.pop(0)\n",
    "    def removeFromFront(self):\n",
    "        return self.items.pop()\n",
    "    \n",
    "def palinedromTest(input_string):\n",
    "    d = Dequeue()\n",
    "    for char in input_string:\n",
    "        d.addToRear(char)\n",
    "    matched = True\n",
    "    \n",
    "    while d.size() > 1 and matched:\n",
    "        first = d.removeFromFront()\n",
    "        last = d.removeFromRear()\n",
    "    if first == last:\n",
    "        print('palinedrome')\n",
    "    else:\n",
    "        print('not palinedrome')\n",
    "        \n",
    "palinedromTest('Rajib')\n",
    "palinedromTest('madam')\n",
    "    "
   ]
  }
 ],
 "metadata": {
  "kernelspec": {
   "display_name": "Python 3",
   "language": "python",
   "name": "python3"
  },
  "language_info": {
   "codemirror_mode": {
    "name": "ipython",
    "version": 3
   },
   "file_extension": ".py",
   "mimetype": "text/x-python",
   "name": "python",
   "nbconvert_exporter": "python",
   "pygments_lexer": "ipython3",
   "version": "3.8.6"
  }
 },
 "nbformat": 4,
 "nbformat_minor": 4
}
