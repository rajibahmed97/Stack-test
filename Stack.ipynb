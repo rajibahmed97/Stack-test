{
 "cells": [
  {
   "cell_type": "markdown",
   "metadata": {},
   "source": [
    "# Stack Construction"
   ]
  },
  {
   "cell_type": "code",
   "execution_count": 1,
   "metadata": {},
   "outputs": [],
   "source": [
    "class Stack:\n",
    "    def __init__(self):\n",
    "        self.stack = []\n",
    "    \n",
    "    def isEmpty(self):\n",
    "        return self.stack == []\n",
    "    \n",
    "    def push(self,data):\n",
    "        return self.stack.append(data)\n",
    "    \n",
    "    def pop(self):\n",
    "        return self.stack.pop()\n",
    "    \n",
    "    def peek(self):\n",
    "        return self.stack[len(self.stack)-1]\n",
    "    \n",
    "    def size(self):\n",
    "        return len(self.stack)\n",
    "        \n",
    "    \n",
    "# s = Stack()\n",
    "# s.push(20)\n",
    "# s.peek()\n",
    "# s.isEmpty()\n",
    "# s.pop()\n",
    "# s.isEmpty()\n"
   ]
  },
  {
   "cell_type": "markdown",
   "metadata": {},
   "source": [
    "# Balance test "
   ]
  },
  {
   "cell_type": "code",
   "execution_count": 2,
   "metadata": {},
   "outputs": [],
   "source": [
    "class Stack:\n",
    "    def __init__(self):\n",
    "        self.stack = []\n",
    "    \n",
    "    def isEmpty(self):\n",
    "        return self.stack == []\n",
    "    \n",
    "    def push(self,data):\n",
    "        return self.stack.append(data)\n",
    "    \n",
    "    def pop(self):\n",
    "        return self.stack.pop()\n",
    "    \n",
    "    def peek(self):\n",
    "        return self.stack[len(self.stack)-1]\n",
    "    \n",
    "    def size(self):\n",
    "        return len(self.stack)\n",
    "\n",
    "\n",
    "def balance_test(input_string):\n",
    "    s = Stack()\n",
    "    balance = True\n",
    "    index = 0\n",
    "    \n",
    "    while index < len(input_string) and balance :\n",
    "        symbol = input_string[index]\n",
    "        if symbol == '(':\n",
    "            s.push(symbol)\n",
    "        else:\n",
    "            if s.isEmpty():\n",
    "                balance = False\n",
    "            else:\n",
    "                s.pop()\n",
    "        \n",
    "        index = index + 1\n",
    "    if balance and s.isEmpty():\n",
    "        return True\n",
    "    else:\n",
    "        return False\n",
    "\n",
    "    \n",
    "print(balance_test('(((())))')) #True \n",
    "print(balance_test('(((()))))')) #False"
   ]
  },
  {
   "cell_type": "markdown",
   "metadata": {},
   "source": [
    "# Balance Test 2 "
   ]
  },
  {
   "cell_type": "code",
   "execution_count": 3,
   "metadata": {},
   "outputs": [
    {
     "name": "stdout",
     "output_type": "stream",
     "text": [
      "False\n",
      "True\n"
     ]
    }
   ],
   "source": [
    "class Stack:\n",
    "    def __init__(self):\n",
    "        self.stack = []\n",
    "    \n",
    "    def isEmpty(self):\n",
    "        return self.stack == []\n",
    "    \n",
    "    def push(self,data):\n",
    "        return self.stack.append(data)\n",
    "    \n",
    "    def pop(self):\n",
    "        return self.stack.pop()\n",
    "    \n",
    "    def peek(self):\n",
    "        return self.stack[len(self.stack)-1]\n",
    "    \n",
    "    def size(self):\n",
    "        return len(self.stack)\n",
    "\n",
    "\n",
    "def balance_test(input_string):\n",
    "    s = Stack()\n",
    "    balance = True\n",
    "    index = 0\n",
    "    \n",
    "    while index < len(input_string) and balance :\n",
    "        symbol = input_string[index]\n",
    "        if symbol in '({[':\n",
    "            s.push(symbol)\n",
    "        else:\n",
    "            if s.isEmpty():\n",
    "                balance = False\n",
    "            else:\n",
    "                top = s.pop()\n",
    "                if not matches(top,symbol):\n",
    "                    balance = False\n",
    "        \n",
    "        index = index + 1\n",
    "    if balance and s.isEmpty():\n",
    "        return True\n",
    "    else:\n",
    "        return False\n",
    "\n",
    "def matches(first,last):\n",
    "    opens = '({['\n",
    "    closers = ')}]'\n",
    "    return opens.index(first) == closers.index(last)\n",
    "\n",
    "    \n",
    "print(balance_test('[{()]')) #False \n",
    "print(balance_test('{({([][])}())}')) #True"
   ]
  },
  {
   "cell_type": "markdown",
   "metadata": {},
   "source": [
    "# Decimal to Binary Conversions"
   ]
  },
  {
   "cell_type": "code",
   "execution_count": 4,
   "metadata": {},
   "outputs": [
    {
     "name": "stdout",
     "output_type": "stream",
     "text": [
      "up to bottom form :  11101001\n"
     ]
    }
   ],
   "source": [
    "class Stack:\n",
    "    def __init__(self):\n",
    "        self.stack = []\n",
    "    \n",
    "    def isEmpty(self):\n",
    "        return self.stack == []\n",
    "    \n",
    "    def push(self,data):\n",
    "        return self.stack.append(data)\n",
    "    \n",
    "    def pop(self):\n",
    "        return self.stack.pop()\n",
    "    \n",
    "    def peek(self):\n",
    "        return self.stack[len(self.stack)-1]\n",
    "    \n",
    "    def size(self):\n",
    "        return len(self.stack)\n",
    "    \n",
    "\n",
    "def decimal_to_binary(input_num):\n",
    "    s = Stack()\n",
    "    while input_num > 0:\n",
    "        rem = input_num % 2\n",
    "        s.push(rem)\n",
    "        input_num = input_num // 2\n",
    "    \n",
    "    binary_string = ''\n",
    "    while not s.isEmpty():\n",
    "        binary_string = binary_string + str(s.pop())\n",
    "    return binary_string\n",
    "    \n",
    "    \n",
    "print(\"up to bottom form : \",decimal_to_binary(233))\n",
    "    \n",
    "    "
   ]
  },
  {
   "cell_type": "markdown",
   "metadata": {},
   "source": [
    "# Decimal to all conversions"
   ]
  },
  {
   "cell_type": "code",
   "execution_count": 5,
   "metadata": {},
   "outputs": [
    {
     "name": "stdout",
     "output_type": "stream",
     "text": [
      "Decimal to binary :  11101001\n",
      "Decimal to Octal :  351\n",
      "Decimal to Hex :  E9\n"
     ]
    }
   ],
   "source": [
    "class Stack:\n",
    "    def __init__(self):\n",
    "        self.stack = []\n",
    "    \n",
    "    def isEmpty(self):\n",
    "        return self.stack == []\n",
    "    \n",
    "    def push(self,data):\n",
    "        return self.stack.append(data)\n",
    "    \n",
    "    def pop(self):\n",
    "        return self.stack.pop()\n",
    "    \n",
    "    def peek(self):\n",
    "        return self.stack[len(self.stack)-1]\n",
    "    \n",
    "    def size(self):\n",
    "        return len(self.stack)\n",
    "    \n",
    "\n",
    "def decimal_to_binary(input_num,base):\n",
    "    s = Stack()\n",
    "    digits = '0123456789ABCDEF'\n",
    "    while input_num > 0:\n",
    "        rem = input_num % base\n",
    "        s.push(rem)\n",
    "        input_num = input_num // base\n",
    "    \n",
    "    binary_string = ''\n",
    "    while not s.isEmpty():\n",
    "        binary_string = binary_string + digits[s.pop()]\n",
    "    return binary_string\n",
    "    \n",
    "    \n",
    "print(\"Decimal to binary : \",decimal_to_binary(233,2))\n",
    "print(\"Decimal to Octal : \",decimal_to_binary(233,8))\n",
    "print(\"Decimal to Hex : \",decimal_to_binary(233,16))\n",
    "    "
   ]
  }
 ],
 "metadata": {
  "kernelspec": {
   "display_name": "Python 3",
   "language": "python",
   "name": "python3"
  },
  "language_info": {
   "codemirror_mode": {
    "name": "ipython",
    "version": 3
   },
   "file_extension": ".py",
   "mimetype": "text/x-python",
   "name": "python",
   "nbconvert_exporter": "python",
   "pygments_lexer": "ipython3",
   "version": "3.8.6"
  }
 },
 "nbformat": 4,
 "nbformat_minor": 4
}
